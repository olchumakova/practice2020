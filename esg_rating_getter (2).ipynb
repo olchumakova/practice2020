{
  "nbformat": 4,
  "nbformat_minor": 0,
  "metadata": {
    "colab": {
      "name": "esg_rating_getter.ipynb",
      "provenance": [],
      "collapsed_sections": []
    },
    "kernelspec": {
      "name": "python3",
      "display_name": "Python 3"
    }
  },
  "cells": [
    {
      "cell_type": "markdown",
      "metadata": {
        "id": "QFQqig7331f1",
        "colab_type": "text"
      },
      "source": [
        "# Ввод компаний"
      ]
    },
    {
      "cell_type": "code",
      "metadata": {
        "id": "kkt9q7NX333T",
        "colab_type": "code",
        "colab": {
          "base_uri": "https://localhost:8080/",
          "height": 85
        },
        "outputId": "6c6acb6b-8d4f-4439-92d8-60ee2e77acdf"
      },
      "source": [
        "inputs = []\n",
        "while True:             \n",
        "  inp = input()  \n",
        "  if inp == \"\":       \n",
        "    break \n",
        "  inputs.append(inp) "
      ],
      "execution_count": null,
      "outputs": [
        {
          "output_type": "stream",
          "text": [
            "Anglo American\n",
            "Vale\n",
            "Nickel\n",
            "\n"
          ],
          "name": "stdout"
        }
      ]
    },
    {
      "cell_type": "code",
      "metadata": {
        "id": "ApfVnNXM4jKJ",
        "colab_type": "code",
        "colab": {
          "base_uri": "https://localhost:8080/",
          "height": 34
        },
        "outputId": "3cb043ae-242f-4b69-bbc4-276e2ad93886"
      },
      "source": [
        "inputs"
      ],
      "execution_count": null,
      "outputs": [
        {
          "output_type": "execute_result",
          "data": {
            "text/plain": [
              "['Anglo American', 'Vale', 'Nickel']"
            ]
          },
          "metadata": {
            "tags": []
          },
          "execution_count": 2
        }
      ]
    },
    {
      "cell_type": "markdown",
      "metadata": {
        "id": "aVqJSI2dzjbQ",
        "colab_type": "text"
      },
      "source": [
        "# Создание документа"
      ]
    },
    {
      "cell_type": "code",
      "metadata": {
        "id": "esrT53Fm2jCS",
        "colab_type": "code",
        "colab": {
          "base_uri": "https://localhost:8080/",
          "height": 122
        },
        "outputId": "164e5042-c364-48a0-bcc0-437b04a75163"
      },
      "source": [
        "!pip install xlsxwriter"
      ],
      "execution_count": null,
      "outputs": [
        {
          "output_type": "stream",
          "text": [
            "Collecting xlsxwriter\n",
            "\u001b[?25l  Downloading https://files.pythonhosted.org/packages/c8/a2/e5f28b67b7d883c9a6585c0ef32b4bb002bff0292b3008f3d6d3fc7eee59/XlsxWriter-1.2.9-py2.py3-none-any.whl (141kB)\n",
            "\r\u001b[K     |██▎                             | 10kB 17.3MB/s eta 0:00:01\r\u001b[K     |████▋                           | 20kB 6.8MB/s eta 0:00:01\r\u001b[K     |███████                         | 30kB 7.3MB/s eta 0:00:01\r\u001b[K     |█████████▎                      | 40kB 7.6MB/s eta 0:00:01\r\u001b[K     |███████████▋                    | 51kB 7.2MB/s eta 0:00:01\r\u001b[K     |█████████████▉                  | 61kB 7.8MB/s eta 0:00:01\r\u001b[K     |████████████████▏               | 71kB 8.7MB/s eta 0:00:01\r\u001b[K     |██████████████████▌             | 81kB 9.2MB/s eta 0:00:01\r\u001b[K     |████████████████████▉           | 92kB 8.6MB/s eta 0:00:01\r\u001b[K     |███████████████████████▏        | 102kB 9.3MB/s eta 0:00:01\r\u001b[K     |█████████████████████████▌      | 112kB 9.3MB/s eta 0:00:01\r\u001b[K     |███████████████████████████▊    | 122kB 9.3MB/s eta 0:00:01\r\u001b[K     |██████████████████████████████  | 133kB 9.3MB/s eta 0:00:01\r\u001b[K     |████████████████████████████████| 143kB 9.3MB/s \n",
            "\u001b[?25hInstalling collected packages: xlsxwriter\n",
            "Successfully installed xlsxwriter-1.2.9\n"
          ],
          "name": "stdout"
        }
      ]
    },
    {
      "cell_type": "code",
      "metadata": {
        "id": "4JIeaZYFzm_f",
        "colab_type": "code",
        "colab": {}
      },
      "source": [
        "import xlsxwriter \n",
        "\n",
        "workbook = xlsxwriter.Workbook('esg_ratings.xlsx') \n",
        "worksheet = workbook.add_worksheet(name='srayarabesque') \n",
        "worksheet.set_column('A:I', 16)\n",
        "bold = workbook.add_format({'bold': True})\n",
        "\n",
        "row = 0\n",
        "col = 0\n",
        "rowHeaders = ['Company','Country','Sector','ESG','ESG Country Rank','ESG Sector Rank', 'GC', 'GC Country Rank', 'GC Sector Rank']\n",
        "worksheet.write_row(row, col,  tuple(rowHeaders), bold)\n",
        "row += 1"
      ],
      "execution_count": null,
      "outputs": []
    },
    {
      "cell_type": "markdown",
      "metadata": {
        "id": "2GQpoRgB6qXo",
        "colab_type": "text"
      },
      "source": [
        "# srayarabesque"
      ]
    },
    {
      "cell_type": "code",
      "metadata": {
        "id": "4r2Om19l0E3T",
        "colab_type": "code",
        "colab": {}
      },
      "source": [
        "import requests\n",
        "import json\n",
        "\n",
        "session = requests.Session()\n",
        "url = 'https://srayapi.arabesque.com/api/sray/q'\n",
        "response = session.get(url).json()\n",
        "\n",
        "rays = response['data']['rays']\n",
        "\n",
        "companies = []\n",
        "for i in inputs:\n",
        "  companies.append([ray for ray in rays if i in ray['name']])\n",
        "\n",
        "flat_companies = [item for sublist in companies for item in sublist]"
      ],
      "execution_count": null,
      "outputs": []
    },
    {
      "cell_type": "code",
      "metadata": {
        "id": "GhgpNFPj5LbC",
        "colab_type": "code",
        "colab": {}
      },
      "source": [
        "for company in flat_companies:\n",
        "  rowValues = [company['name'],company['country'],company['sector'],company['esg'],company['esg_country_rank'],\n",
        "               company['esg_sector_rank'],company['gc'],company['gc_country_rank'],company['gc_sector_rank']]\n",
        "  worksheet.write_row(row, col, tuple(rowValues))\n",
        "  row += 1"
      ],
      "execution_count": null,
      "outputs": []
    },
    {
      "cell_type": "markdown",
      "metadata": {
        "id": "IZrQrXK86vz7",
        "colab_type": "text"
      },
      "source": [
        "#MSCI"
      ]
    },
    {
      "cell_type": "code",
      "metadata": {
        "id": "T2QpMV1g7ic_",
        "colab_type": "code",
        "colab": {
          "base_uri": "https://localhost:8080/",
          "height": 887
        },
        "outputId": "1e7d37e7-5ef4-4e98-f41b-0476f4dc4050"
      },
      "source": [
        "!apt install chromium-chromedriver\n",
        "!cp /usr/lib/chromium-browser/chromedriver /usr/bin\n",
        "!pip install selenium\n",
        "\n",
        "from selenium import webdriver\n",
        "from selenium.webdriver.support.ui import WebDriverWait\n",
        "from selenium.webdriver.support import expected_conditions as EC\n",
        "from selenium.webdriver.common.by import By\n",
        "import time"
      ],
      "execution_count": null,
      "outputs": [
        {
          "output_type": "stream",
          "text": [
            "Reading package lists... Done\n",
            "Building dependency tree       \n",
            "Reading state information... Done\n",
            "The following package was automatically installed and is no longer required:\n",
            "  libnvidia-common-440\n",
            "Use 'apt autoremove' to remove it.\n",
            "The following additional packages will be installed:\n",
            "  chromium-browser chromium-browser-l10n chromium-codecs-ffmpeg-extra\n",
            "Suggested packages:\n",
            "  webaccounts-chromium-extension unity-chromium-extension adobe-flashplugin\n",
            "The following NEW packages will be installed:\n",
            "  chromium-browser chromium-browser-l10n chromium-chromedriver\n",
            "  chromium-codecs-ffmpeg-extra\n",
            "0 upgraded, 4 newly installed, 0 to remove and 35 not upgraded.\n",
            "Need to get 75.5 MB of archives.\n",
            "After this operation, 256 MB of additional disk space will be used.\n",
            "Get:1 http://archive.ubuntu.com/ubuntu bionic-updates/universe amd64 chromium-codecs-ffmpeg-extra amd64 83.0.4103.61-0ubuntu0.18.04.1 [1,119 kB]\n",
            "Get:2 http://archive.ubuntu.com/ubuntu bionic-updates/universe amd64 chromium-browser amd64 83.0.4103.61-0ubuntu0.18.04.1 [66.7 MB]\n",
            "Get:3 http://archive.ubuntu.com/ubuntu bionic-updates/universe amd64 chromium-browser-l10n all 83.0.4103.61-0ubuntu0.18.04.1 [3,378 kB]\n",
            "Get:4 http://archive.ubuntu.com/ubuntu bionic-updates/universe amd64 chromium-chromedriver amd64 83.0.4103.61-0ubuntu0.18.04.1 [4,294 kB]\n",
            "Fetched 75.5 MB in 1s (69.6 MB/s)\n",
            "Selecting previously unselected package chromium-codecs-ffmpeg-extra.\n",
            "(Reading database ... 144465 files and directories currently installed.)\n",
            "Preparing to unpack .../chromium-codecs-ffmpeg-extra_83.0.4103.61-0ubuntu0.18.04.1_amd64.deb ...\n",
            "Unpacking chromium-codecs-ffmpeg-extra (83.0.4103.61-0ubuntu0.18.04.1) ...\n",
            "Selecting previously unselected package chromium-browser.\n",
            "Preparing to unpack .../chromium-browser_83.0.4103.61-0ubuntu0.18.04.1_amd64.deb ...\n",
            "Unpacking chromium-browser (83.0.4103.61-0ubuntu0.18.04.1) ...\n",
            "Selecting previously unselected package chromium-browser-l10n.\n",
            "Preparing to unpack .../chromium-browser-l10n_83.0.4103.61-0ubuntu0.18.04.1_all.deb ...\n",
            "Unpacking chromium-browser-l10n (83.0.4103.61-0ubuntu0.18.04.1) ...\n",
            "Selecting previously unselected package chromium-chromedriver.\n",
            "Preparing to unpack .../chromium-chromedriver_83.0.4103.61-0ubuntu0.18.04.1_amd64.deb ...\n",
            "Unpacking chromium-chromedriver (83.0.4103.61-0ubuntu0.18.04.1) ...\n",
            "Setting up chromium-codecs-ffmpeg-extra (83.0.4103.61-0ubuntu0.18.04.1) ...\n",
            "Setting up chromium-browser (83.0.4103.61-0ubuntu0.18.04.1) ...\n",
            "update-alternatives: using /usr/bin/chromium-browser to provide /usr/bin/x-www-browser (x-www-browser) in auto mode\n",
            "update-alternatives: using /usr/bin/chromium-browser to provide /usr/bin/gnome-www-browser (gnome-www-browser) in auto mode\n",
            "Setting up chromium-chromedriver (83.0.4103.61-0ubuntu0.18.04.1) ...\n",
            "Setting up chromium-browser-l10n (83.0.4103.61-0ubuntu0.18.04.1) ...\n",
            "Processing triggers for hicolor-icon-theme (0.17-2) ...\n",
            "Processing triggers for mime-support (3.60ubuntu1) ...\n",
            "Processing triggers for man-db (2.8.3-2ubuntu0.1) ...\n",
            "cp: '/usr/lib/chromium-browser/chromedriver' and '/usr/bin/chromedriver' are the same file\n",
            "Collecting selenium\n",
            "\u001b[?25l  Downloading https://files.pythonhosted.org/packages/80/d6/4294f0b4bce4de0abf13e17190289f9d0613b0a44e5dd6a7f5ca98459853/selenium-3.141.0-py2.py3-none-any.whl (904kB)\n",
            "\u001b[K     |████████████████████████████████| 911kB 7.6MB/s \n",
            "\u001b[?25hRequirement already satisfied: urllib3 in /usr/local/lib/python3.6/dist-packages (from selenium) (1.24.3)\n",
            "Installing collected packages: selenium\n",
            "Successfully installed selenium-3.141.0\n"
          ],
          "name": "stdout"
        }
      ]
    },
    {
      "cell_type": "code",
      "metadata": {
        "id": "6zlYZaRRfKF_",
        "colab_type": "code",
        "colab": {}
      },
      "source": [
        "chrome_options = webdriver.ChromeOptions()\n",
        "chrome_options.add_argument('--headless')\n",
        "chrome_options.add_argument('--no-sandbox')\n",
        "chrome_options.add_argument('--disable-dev-shm-usage')\n",
        "chrome_options.add_argument('window-size=1920,1080')\n",
        "\n",
        "wd = webdriver.Chrome(options=chrome_options)\n",
        "\n",
        "wd.get('https://www.msci.com/esg-ratings')\n",
        "\n",
        "worksheet = workbook.add_worksheet('MSCI')"
      ],
      "execution_count": null,
      "outputs": []
    },
    {
      "cell_type": "code",
      "metadata": {
        "id": "2_gnvU966yS2",
        "colab_type": "code",
        "colab": {}
      },
      "source": [
        "worksheet.set_column('A:D', 28)\n",
        "worksheet.set_default_row(35)\n",
        "row = 0 \n",
        "col = 0 \n",
        "rowHeaders = ['Company','Country','Industry','ESG Rating']\n",
        "worksheet.write_row(row, col,  tuple(rowHeaders), bold)\n",
        "row += 1\n",
        "\n",
        "image_width = 140.0\n",
        "image_height = 140.0\n",
        "\n",
        "cell_width = 64.0\n",
        "cell_height = 60.0\n",
        "\n",
        "x_scale = cell_width/image_width\n",
        "y_scale = cell_height/image_height\n",
        "\n",
        "cell_format = workbook.add_format()\n",
        "cell_format.set_text_wrap()\n",
        "\n",
        "for company in inputs:\n",
        "  WebDriverWait(wd, 30).until(EC.element_to_be_clickable((By.XPATH, \"//*[@id='_esgratingsprofile_keywords']\"))).send_keys(company)\n",
        "  time.sleep(5)\n",
        "  driver.refresh()\n",
        "  ul = wd.find_element_by_xpath('//*[@id=\"ui-id-1\"]')\n",
        "  links = ul.find_elements_by_tag_name('li')\n",
        "  time.sleep(5)\n",
        "  \n",
        "  i = 0\n",
        "  for k in range(len(links)):\n",
        "    WebDriverWait(wd, 30).until(EC.element_to_be_clickable((By.XPATH, \"//*[@id='_esgratingsprofile_keywords']\"))).clear()\n",
        "    WebDriverWait(wd, 30).until(EC.element_to_be_clickable((By.XPATH, \"//*[@id='_esgratingsprofile_keywords']\"))).send_keys(links[k].text)\n",
        "    time.sleep(5)\n",
        "    element = wd.find_element_by_xpath('//*[@id=\"ui-id-1\"]/li[{}]'.format(k+1))\n",
        "    wd.execute_script(\"arguments[0].click();\", element)\n",
        "    time.sleep(3)\n",
        "\n",
        "    filename = \"file{}.png\".format(i)\n",
        "    with open(filename, 'wb') as file:\n",
        "      file.write(wd.find_element_by_xpath('//*[@id=\"_esgratingsprofile_esg-ratings-profile-header\"]/div[2]/div[1]/div[2]/div').screenshot_as_png)\n",
        "    worksheet.write(row, col, wd.find_element_by_xpath('//*[@id=\"_esgratingsprofile_esg-ratings-profile-header\"]/div[1]/div[1]').text)\n",
        "    worksheet.write(row, col+1, wd.find_element_by_xpath('//*[@id=\"_esgratingsprofile_esg-ratings-profile-header\"]/div[1]/div[3]/div[2]').text[9:])\n",
        "    worksheet.write(row, col+2, wd.find_element_by_xpath('//*[@id=\"_esgratingsprofile_esg-ratings-profile-header\"]/div[1]/div[3]/div[1]').text[10:], cell_format)\n",
        "    center = workbook.add_format({'align': 'center'})\n",
        "    worksheet.insert_image(row, col+3, filename, {'x_scale': x_scale, 'y_scale': y_scale, 'align': center}) \n",
        "    row += 1\n",
        "    i += 1\n",
        "\n",
        "workbook.close() \n"
      ],
      "execution_count": null,
      "outputs": []
    },
    {
      "cell_type": "code",
      "metadata": {
        "id": "QnllvKWc5wDy",
        "colab_type": "code",
        "colab": {
          "base_uri": "https://localhost:8080/",
          "height": 17
        },
        "outputId": "2b485b3b-c75b-4393-c3be-321dd7fc4688"
      },
      "source": [
        "from google.colab import files\n",
        "files.download(\"esg_ratings.xlsx\")"
      ],
      "execution_count": null,
      "outputs": [
        {
          "output_type": "display_data",
          "data": {
            "application/javascript": [
              "\n",
              "    async function download(id, filename, size) {\n",
              "      if (!google.colab.kernel.accessAllowed) {\n",
              "        return;\n",
              "      }\n",
              "      const div = document.createElement('div');\n",
              "      const label = document.createElement('label');\n",
              "      label.textContent = `Downloading \"${filename}\": `;\n",
              "      div.appendChild(label);\n",
              "      const progress = document.createElement('progress');\n",
              "      progress.max = size;\n",
              "      div.appendChild(progress);\n",
              "      document.body.appendChild(div);\n",
              "\n",
              "      const buffers = [];\n",
              "      let downloaded = 0;\n",
              "\n",
              "      const channel = await google.colab.kernel.comms.open(id);\n",
              "      // Send a message to notify the kernel that we're ready.\n",
              "      channel.send({})\n",
              "\n",
              "      for await (const message of channel.messages) {\n",
              "        // Send a message to notify the kernel that we're ready.\n",
              "        channel.send({})\n",
              "        if (message.buffers) {\n",
              "          for (const buffer of message.buffers) {\n",
              "            buffers.push(buffer);\n",
              "            downloaded += buffer.byteLength;\n",
              "            progress.value = downloaded;\n",
              "          }\n",
              "        }\n",
              "      }\n",
              "      const blob = new Blob(buffers, {type: 'application/binary'});\n",
              "      const a = document.createElement('a');\n",
              "      a.href = window.URL.createObjectURL(blob);\n",
              "      a.download = filename;\n",
              "      div.appendChild(a);\n",
              "      a.click();\n",
              "      div.remove();\n",
              "    }\n",
              "  "
            ],
            "text/plain": [
              "<IPython.core.display.Javascript object>"
            ]
          },
          "metadata": {
            "tags": []
          }
        },
        {
          "output_type": "display_data",
          "data": {
            "application/javascript": [
              "download(\"download_45343d2d-73c0-42b7-bd43-0d4c71224340\", \"esg_ratings.xlsx\", 32694)"
            ],
            "text/plain": [
              "<IPython.core.display.Javascript object>"
            ]
          },
          "metadata": {
            "tags": []
          }
        }
      ]
    }
  ]
}